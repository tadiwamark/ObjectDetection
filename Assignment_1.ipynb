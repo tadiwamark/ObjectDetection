{
  "cells": [
    {
      "cell_type": "markdown",
      "metadata": {
        "id": "view-in-github",
        "colab_type": "text"
      },
      "source": [
        "<a href=\"https://colab.research.google.com/github/tadiwamark/SimpleWald/blob/main/Assignment_1.ipynb\" target=\"_parent\"><img src=\"https://colab.research.google.com/assets/colab-badge.svg\" alt=\"Open In Colab\"/></a>"
      ]
    },
    {
      "cell_type": "markdown",
      "metadata": {
        "id": "33fyuQ9eTfHB"
      },
      "source": [
        "# **Tadiwanashe Nyaruwata R204445V**\n",
        "# **Tungamiraishe Mukwena R204452G**"
      ]
    },
    {
      "cell_type": "markdown",
      "source": [
        ""
      ],
      "metadata": {
        "id": "9chWScC_5kQg"
      }
    },
    {
      "cell_type": "code",
      "execution_count": null,
      "metadata": {
        "id": "HW58jG1auoyD",
        "colab": {
          "base_uri": "https://localhost:8080/"
        },
        "outputId": "00ba5cad-17f9-46cc-f2e1-02b00a773c64"
      },
      "outputs": [
        {
          "output_type": "stream",
          "name": "stdout",
          "text": [
            "\u001b[K     |████████████████████████████████| 10.1 MB 22.7 MB/s \n",
            "\u001b[K     |████████████████████████████████| 4.3 MB 52.0 MB/s \n",
            "\u001b[K     |████████████████████████████████| 164 kB 49.9 MB/s \n",
            "\u001b[K     |████████████████████████████████| 76 kB 5.3 MB/s \n",
            "\u001b[K     |████████████████████████████████| 111 kB 74.4 MB/s \n",
            "\u001b[K     |████████████████████████████████| 181 kB 67.3 MB/s \n",
            "\u001b[K     |████████████████████████████████| 63 kB 1.5 MB/s \n",
            "\u001b[K     |████████████████████████████████| 130 kB 71.9 MB/s \n",
            "\u001b[K     |████████████████████████████████| 428 kB 71.3 MB/s \n",
            "\u001b[K     |████████████████████████████████| 130 kB 68.4 MB/s \n",
            "\u001b[K     |████████████████████████████████| 793 kB 44.7 MB/s \n",
            "\u001b[K     |████████████████████████████████| 381 kB 74.6 MB/s \n",
            "\u001b[?25h  Building wheel for blinker (setup.py) ... \u001b[?25l\u001b[?25hdone\n",
            "\u001b[31mERROR: pip's dependency resolver does not currently take into account all the packages that are installed. This behaviour is the source of the following dependency conflicts.\n",
            "jupyter-console 5.2.0 requires prompt-toolkit<2.0.0,>=1.0.0, but you have prompt-toolkit 3.0.29 which is incompatible.\n",
            "google-colab 1.0.0 requires ipykernel~=4.10, but you have ipykernel 6.12.1 which is incompatible.\n",
            "google-colab 1.0.0 requires ipython~=5.5.0, but you have ipython 7.32.0 which is incompatible.\n",
            "google-colab 1.0.0 requires tornado~=5.1.0; python_version >= \"3.0\", but you have tornado 6.1 which is incompatible.\u001b[0m\n"
          ]
        }
      ],
      "source": [
        "!pip install -q streamlit"
      ]
    },
    {
      "cell_type": "code",
      "source": [
        "from google.colab import drive\n",
        "drive.mount('/content/drive')"
      ],
      "metadata": {
        "colab": {
          "base_uri": "https://localhost:8080/"
        },
        "id": "kErXGNTN3t1d",
        "outputId": "fbf8352b-628a-4a93-9bf8-f732d48fbaab"
      },
      "execution_count": null,
      "outputs": [
        {
          "output_type": "stream",
          "name": "stdout",
          "text": [
            "Mounted at /content/drive\n"
          ]
        }
      ]
    },
    {
      "cell_type": "code",
      "execution_count": null,
      "metadata": {
        "id": "4J5gHSPMupn4",
        "colab": {
          "base_uri": "https://localhost:8080/"
        },
        "outputId": "1161123f-cd15-4b71-d6e8-b0f40eee411d"
      },
      "outputs": [
        {
          "output_type": "stream",
          "name": "stdout",
          "text": [
            "\u001b[?25l\r\u001b[K     |▍                               | 10 kB 21.0 MB/s eta 0:00:01\r\u001b[K     |▉                               | 20 kB 28.7 MB/s eta 0:00:01\r\u001b[K     |█▎                              | 30 kB 35.4 MB/s eta 0:00:01\r\u001b[K     |█▊                              | 40 kB 31.8 MB/s eta 0:00:01\r\u001b[K     |██▏                             | 51 kB 19.9 MB/s eta 0:00:01\r\u001b[K     |██▋                             | 61 kB 19.4 MB/s eta 0:00:01\r\u001b[K     |███                             | 71 kB 20.5 MB/s eta 0:00:01\r\u001b[K     |███▌                            | 81 kB 21.4 MB/s eta 0:00:01\r\u001b[K     |████                            | 92 kB 22.3 MB/s eta 0:00:01\r\u001b[K     |████▍                           | 102 kB 23.3 MB/s eta 0:00:01\r\u001b[K     |████▉                           | 112 kB 23.3 MB/s eta 0:00:01\r\u001b[K     |█████▎                          | 122 kB 23.3 MB/s eta 0:00:01\r\u001b[K     |█████▊                          | 133 kB 23.3 MB/s eta 0:00:01\r\u001b[K     |██████▏                         | 143 kB 23.3 MB/s eta 0:00:01\r\u001b[K     |██████▋                         | 153 kB 23.3 MB/s eta 0:00:01\r\u001b[K     |███████                         | 163 kB 23.3 MB/s eta 0:00:01\r\u001b[K     |███████▌                        | 174 kB 23.3 MB/s eta 0:00:01\r\u001b[K     |████████                        | 184 kB 23.3 MB/s eta 0:00:01\r\u001b[K     |████████▍                       | 194 kB 23.3 MB/s eta 0:00:01\r\u001b[K     |████████▉                       | 204 kB 23.3 MB/s eta 0:00:01\r\u001b[K     |█████████▎                      | 215 kB 23.3 MB/s eta 0:00:01\r\u001b[K     |█████████▊                      | 225 kB 23.3 MB/s eta 0:00:01\r\u001b[K     |██████████▏                     | 235 kB 23.3 MB/s eta 0:00:01\r\u001b[K     |██████████▌                     | 245 kB 23.3 MB/s eta 0:00:01\r\u001b[K     |███████████                     | 256 kB 23.3 MB/s eta 0:00:01\r\u001b[K     |███████████▍                    | 266 kB 23.3 MB/s eta 0:00:01\r\u001b[K     |███████████▉                    | 276 kB 23.3 MB/s eta 0:00:01\r\u001b[K     |████████████▎                   | 286 kB 23.3 MB/s eta 0:00:01\r\u001b[K     |████████████▊                   | 296 kB 23.3 MB/s eta 0:00:01\r\u001b[K     |█████████████▏                  | 307 kB 23.3 MB/s eta 0:00:01\r\u001b[K     |█████████████▋                  | 317 kB 23.3 MB/s eta 0:00:01\r\u001b[K     |██████████████                  | 327 kB 23.3 MB/s eta 0:00:01\r\u001b[K     |██████████████▌                 | 337 kB 23.3 MB/s eta 0:00:01\r\u001b[K     |███████████████                 | 348 kB 23.3 MB/s eta 0:00:01\r\u001b[K     |███████████████▍                | 358 kB 23.3 MB/s eta 0:00:01\r\u001b[K     |███████████████▉                | 368 kB 23.3 MB/s eta 0:00:01\r\u001b[K     |████████████████▎               | 378 kB 23.3 MB/s eta 0:00:01\r\u001b[K     |████████████████▊               | 389 kB 23.3 MB/s eta 0:00:01\r\u001b[K     |█████████████████▏              | 399 kB 23.3 MB/s eta 0:00:01\r\u001b[K     |█████████████████▋              | 409 kB 23.3 MB/s eta 0:00:01\r\u001b[K     |██████████████████              | 419 kB 23.3 MB/s eta 0:00:01\r\u001b[K     |██████████████████▌             | 430 kB 23.3 MB/s eta 0:00:01\r\u001b[K     |███████████████████             | 440 kB 23.3 MB/s eta 0:00:01\r\u001b[K     |███████████████████▍            | 450 kB 23.3 MB/s eta 0:00:01\r\u001b[K     |███████████████████▉            | 460 kB 23.3 MB/s eta 0:00:01\r\u001b[K     |████████████████████▎           | 471 kB 23.3 MB/s eta 0:00:01\r\u001b[K     |████████████████████▋           | 481 kB 23.3 MB/s eta 0:00:01\r\u001b[K     |█████████████████████           | 491 kB 23.3 MB/s eta 0:00:01\r\u001b[K     |█████████████████████▌          | 501 kB 23.3 MB/s eta 0:00:01\r\u001b[K     |██████████████████████          | 512 kB 23.3 MB/s eta 0:00:01\r\u001b[K     |██████████████████████▍         | 522 kB 23.3 MB/s eta 0:00:01\r\u001b[K     |██████████████████████▉         | 532 kB 23.3 MB/s eta 0:00:01\r\u001b[K     |███████████████████████▎        | 542 kB 23.3 MB/s eta 0:00:01\r\u001b[K     |███████████████████████▊        | 552 kB 23.3 MB/s eta 0:00:01\r\u001b[K     |████████████████████████▏       | 563 kB 23.3 MB/s eta 0:00:01\r\u001b[K     |████████████████████████▋       | 573 kB 23.3 MB/s eta 0:00:01\r\u001b[K     |█████████████████████████       | 583 kB 23.3 MB/s eta 0:00:01\r\u001b[K     |█████████████████████████▌      | 593 kB 23.3 MB/s eta 0:00:01\r\u001b[K     |██████████████████████████      | 604 kB 23.3 MB/s eta 0:00:01\r\u001b[K     |██████████████████████████▍     | 614 kB 23.3 MB/s eta 0:00:01\r\u001b[K     |██████████████████████████▉     | 624 kB 23.3 MB/s eta 0:00:01\r\u001b[K     |███████████████████████████▎    | 634 kB 23.3 MB/s eta 0:00:01\r\u001b[K     |███████████████████████████▊    | 645 kB 23.3 MB/s eta 0:00:01\r\u001b[K     |████████████████████████████▏   | 655 kB 23.3 MB/s eta 0:00:01\r\u001b[K     |████████████████████████████▋   | 665 kB 23.3 MB/s eta 0:00:01\r\u001b[K     |█████████████████████████████   | 675 kB 23.3 MB/s eta 0:00:01\r\u001b[K     |█████████████████████████████▌  | 686 kB 23.3 MB/s eta 0:00:01\r\u001b[K     |██████████████████████████████  | 696 kB 23.3 MB/s eta 0:00:01\r\u001b[K     |██████████████████████████████▍ | 706 kB 23.3 MB/s eta 0:00:01\r\u001b[K     |██████████████████████████████▊ | 716 kB 23.3 MB/s eta 0:00:01\r\u001b[K     |███████████████████████████████▏| 727 kB 23.3 MB/s eta 0:00:01\r\u001b[K     |███████████████████████████████▋| 737 kB 23.3 MB/s eta 0:00:01\r\u001b[K     |████████████████████████████████| 745 kB 23.3 MB/s \n",
            "\u001b[?25h  Building wheel for pyngrok (setup.py) ... \u001b[?25l\u001b[?25hdone\n"
          ]
        }
      ],
      "source": [
        "\n",
        "!pip -q install pyngrok"
      ]
    },
    {
      "cell_type": "code",
      "execution_count": null,
      "metadata": {
        "id": "a5Pb7vjguzQL"
      },
      "outputs": [],
      "source": [
        "from pyngrok import ngrok"
      ]
    },
    {
      "cell_type": "code",
      "execution_count": null,
      "metadata": {
        "colab": {
          "base_uri": "https://localhost:8080/"
        },
        "id": "IxQZkI4Su4Hu",
        "outputId": "9b3bac50-cfba-494a-fb04-9ba4785f265d"
      },
      "outputs": [
        {
          "output_type": "stream",
          "name": "stdout",
          "text": [
            "Authtoken saved to configuration file: /root/.ngrok2/ngrok.yml\n"
          ]
        }
      ],
      "source": [
        "!ngrok authtoken 25fGtm5kLWHHMa02FeCQF6ttMzx_rTLUfJ84GGnfuNq3X8yi"
      ]
    },
    {
      "cell_type": "code",
      "execution_count": null,
      "metadata": {
        "id": "ilhproTi3QSp"
      },
      "outputs": [],
      "source": [
        "%matplotlib inline"
      ]
    },
    {
      "cell_type": "code",
      "execution_count": null,
      "metadata": {
        "colab": {
          "base_uri": "https://localhost:8080/"
        },
        "id": "DksLvX_Ru6V2",
        "outputId": "c3b46884-d0af-4071-df91-df26696bba28"
      },
      "outputs": [
        {
          "output_type": "stream",
          "name": "stdout",
          "text": [
            "Writing obj_detection.py\n"
          ]
        }
      ],
      "source": [
        "%%writefile obj_detection.py\n",
        "import streamlit as st\n",
        "import cv2\n",
        "import os\n",
        "import sys \n",
        "import numpy as np\n",
        "import tempfile\n",
        "import math\n",
        "from PIL import Image\n",
        "import matplotlib.pyplot as plt\n",
        "from keras.preprocessing import image\n",
        "from skimage.transform import resize\n",
        "import tensorflow as tf\n",
        "from keras.layers import Dense, Activation, Dropout, Bidirectional\n",
        "from keras.layers.recurrent import LSTM\n",
        "from keras.models import Sequential\n",
        "from keras.optimizers import gradient_descent_v2\n",
        "\n",
        "from keras import backend as K\n",
        "from keras.utils import np_utils\n",
        "from sklearn.model_selection import train_test_split\n",
        "from keras.callbacks import ModelCheckpoint\n",
        "from keras.layers import Conv2D, Activation, MaxPooling2D, Dropout, Flatten, Dense,InputLayer\n",
        "from keras.utils.vis_utils import plot_model\n",
        "from keras.preprocessing.image import img_to_array\n",
        "from keras.preprocessing.image import load_img\n",
        "from keras.applications.vgg16 import VGG16\n",
        "from keras.applications.vgg16 import preprocess_input\n",
        "from keras.applications.vgg16 import decode_predictions\n",
        "# Load the model\n",
        "model = VGG16(weights='imagenet')\n",
        "\n",
        "\n",
        "PAGE_CONFIG = {\"page_title\":\"StColab.io\", \"page_icon\":\":smiley:\",\"layout\":\"centered\"}\n",
        "st.set_page_config(\"PAGE_CONFIG\")\n",
        "\n",
        "st.title(\"VGG16 Object Detection from video\")\n",
        "st.text(\"Choose UPLOAD on the dropdown menu to upload your own video and search for objects\")\n",
        "\n",
        "# Play video whilist the predictions are loading\n",
        "video_file = open('/content/drive/MyDrive/Trackhawk.mp4', 'rb')\n",
        "video_bytes = video_file.read()\n",
        "st.video(video_bytes)\n",
        "\n",
        "page = st.sidebar.selectbox(\"Choose action\", [\"Classify\", \"Upload\"]) \n",
        "def main():\n",
        "  st.sidebar.title(\"Dashboard\")\n",
        "  #Home = st.sidebar.button('Detect objects', key='home')\n",
        "  #Upload = st.sidebar.button('Upload video',key='upload')\n",
        "\n",
        "  if page == \"Classify\":\n",
        "    #Load a video from file\n",
        "    video_input_file_path = ('/content/drive/MyDrive/Trackhawk.mp4')\n",
        "\n",
        "    #ORIGINAL YOUTUBE VIDEO\n",
        "    #https://youtu.be/K8rpo9e7tvg\n",
        "\n",
        "    #Output file\n",
        "    feature_output_file_path = ('/content/drive/MyDrive/Colab Notebooks/frames')\n",
        "\n",
        "    # Capturing the video from path\n",
        "    video = cv2.VideoCapture(video_input_file_path)\n",
        "    frameRate = video.get(5)\n",
        "\n",
        "    #Creating frames from the given video\n",
        "    import math\n",
        "    count = 0\n",
        "    while(video.isOpened()):\n",
        "        frameNum = video.get(1)\n",
        "        ret, frame = video.read()\n",
        "        if (ret != True):\n",
        "            break\n",
        "        if (frameNum % math.floor(frameRate) == 0):\n",
        "            frameName = feature_output_file_path + \"frame%d.jpg\" % count;count+=1\n",
        "            cv2.imwrite(frameName, frame)\n",
        "    video.release()\n",
        "    st.text(\"Frame Capturing complete!\")\n",
        "\n",
        "    frames = '/content/drive/MyDrive/Colab Notebooks/frames/*.jpg'\n",
        "\n",
        "    # Converting the images to arrays\n",
        "    images = []\n",
        "    import glob\n",
        "    for filename in glob.glob(frames): \n",
        "      frame = image.load_img(filename, target_size=(224,224,224)) \n",
        "      images.append(frame)\n",
        "\n",
        "    \n",
        "    for frame in images:\n",
        "      frame_arr = image.img_to_array(frame)\n",
        "    \n",
        "    #frame_arr.shape\n",
        "    frame_arr = np.expand_dims(frame_arr, axis = 0)\n",
        "\n",
        "    # prepare the image for the VGG model\n",
        "    img = preprocess_input(frame_arr)\n",
        "\n",
        "    # predict the probability across all output classes\n",
        "    yhat = model.predict(img)\n",
        "\n",
        "    # convert the probabilities to class labels\n",
        "    from keras.applications.vgg16 import decode_predictions\n",
        "    label = decode_predictions(yhat)\n",
        "\n",
        "    # retrieve the most likely result, e.g. highest probability\n",
        "    label = label[0][0]\n",
        "\n",
        "\n",
        "    # print the classification\n",
        "    with st.beta_container():\n",
        "      col1, col2 = st.beta_columns([5,5])\n",
        "      with col1:\n",
        "        st.text(\"Object with highest classfication\")\n",
        "        st.write('%s (%.2f%%)' % (label[1], label[2]*100))\n",
        "      with col2:\n",
        "        st.image(yhat)\n",
        "\n",
        "  ########################################################\n",
        "  if page == \"Upload\":\n",
        "    # If the user decides to upload own video\n",
        "    st.text(\"Upload to search for objects in the video\")\n",
        "    def uploadFile():\n",
        "      vid_file = st.file_uploader(\"Upload a video\", type=[\"mp4\", \"mov\",\"avi\"])\n",
        "      tempVideo = tempfile.NamedTemporaryFile(delete=False) \n",
        "      if vid_file is not None: \n",
        "        tempVideo.write(vid_file.read())\n",
        "      return tempVideo.name\n",
        "    # Capturing video frames \n",
        "    def splitVideo(videoPath):\n",
        "      import math\n",
        "      count = 0\n",
        "      cap = cv2.VideoCapture(videoPath)\n",
        "      frameRate = cap.get(5) \n",
        "      tempImage = tempfile.NamedTemporaryFile(delete=False) \n",
        "      x=1\n",
        "      # Splitting video frames into photos\n",
        "      while(cap.isOpened()):\n",
        "        frameId = cap.get(1) \n",
        "        ret, frame = cap.read()\n",
        "        if (ret != True):\n",
        "          break\n",
        "        if (frameId % math.floor(frameRate) == 0):\n",
        "          tempImage = videoPath.split('.')[0] +\"_frame%d.jpg\" % count;count+=1\n",
        "          cv2.imwrite(tempImage, frame)\n",
        "          frames.append(tempImage)\n",
        "      cap.release() \n",
        "      return frames,count\n",
        "    # Classifying the objects\n",
        "    def classifyObjects():  \n",
        "      model = VGG16()\n",
        "      from keras.applications.vgg16 import decode_predictions\n",
        "      classify = []\n",
        "      frames,count = splitVideo(videoFile)\n",
        "\n",
        "      for i in range(count):    \n",
        "        image = load_img(frames[i], target_size=(224, 224)) \n",
        "        image = img_to_array(image)\n",
        "        image = image.reshape((1, image.shape[0], image.shape[1], image.shape[2]))\n",
        "        # prepare the image for the VGG model\n",
        "        image = preprocess_input(image)\n",
        "        # predict the probability across all output classes   \n",
        "        img_pred = model.predict(image)\n",
        "        # convert the probabilities to class labels\n",
        "        label = decode_predictions(img_pred)    \n",
        "        label = label[0][0]\n",
        "        result =  label[1]\n",
        "        classify.append(result)\n",
        "      return classify\n",
        "\n",
        "    def searchInFrames(object_):\n",
        "      indeces = []\n",
        "      classifications = classifyObjects()\n",
        "      if object_ in classifications:\n",
        "        for i in range(len(classifications)):\n",
        "          if classifications[i] == object_:\n",
        "            index = classifications.index(object_)\n",
        "            indeces.append(index)\n",
        "            filePath = frames[index]\n",
        "            img = load_img(filePath, target_size = (224, 224))\n",
        "            detected_paths.append(filePath)\n",
        "        for i in range(len(indeces)):\n",
        "          st.image(frames[i], width=224)\n",
        "      else:\n",
        "        st.write(\"Object not available in video!\")\n",
        "\n",
        "    videoFile = uploadFile()\n",
        "    user_input = st.text_input(\"Enter object to search: \")\n",
        "\n",
        "    if st.button('Search'):  \n",
        "      frames =[]\n",
        "      detected_paths = []\n",
        "      searchInFrames(user_input)\n",
        "      st.write(\"\")\n",
        "\n",
        "\n",
        "if __name__ == '__main__':\n",
        "  main()"
      ]
    },
    {
      "cell_type": "code",
      "source": [
        ""
      ],
      "metadata": {
        "id": "Pgcu2aYKfhq6"
      },
      "execution_count": null,
      "outputs": []
    },
    {
      "cell_type": "code",
      "execution_count": null,
      "metadata": {
        "id": "MLVP_QQX0m4u"
      },
      "outputs": [],
      "source": [
        "!streamlit run --server.port 80 obj_detection.py&>/dev/null&"
      ]
    },
    {
      "cell_type": "code",
      "execution_count": null,
      "metadata": {
        "id": "2_-SD27j04fO"
      },
      "outputs": [],
      "source": [
        "address = ngrok.connect(port=8501)"
      ]
    },
    {
      "cell_type": "code",
      "execution_count": null,
      "metadata": {
        "colab": {
          "base_uri": "https://localhost:8080/"
        },
        "id": "pRhzv7U-0_ps",
        "outputId": "b12e3245-5edd-402a-a3f9-c6ef17a436f6"
      },
      "outputs": [
        {
          "output_type": "execute_result",
          "data": {
            "text/plain": [
              "<NgrokTunnel: \"http://3af2-34-86-22-1.ngrok.io\" -> \"http://localhost:80\">"
            ]
          },
          "metadata": {},
          "execution_count": 10
        }
      ],
      "source": [
        "address"
      ]
    },
    {
      "cell_type": "markdown",
      "metadata": {
        "id": "8VFQwKfuVsCb"
      },
      "source": [
        "**Run the code below when more than 2 tunnels are running**"
      ]
    },
    {
      "cell_type": "code",
      "execution_count": null,
      "metadata": {
        "id": "nofnwd7W1BZV"
      },
      "outputs": [],
      "source": [
        "ngrok.kill()"
      ]
    },
    {
      "cell_type": "code",
      "execution_count": null,
      "metadata": {
        "id": "mTERErXZZpSB"
      },
      "outputs": [],
      "source": [
        ""
      ]
    }
  ],
  "metadata": {
    "colab": {
      "collapsed_sections": [],
      "name": "Assignment_1.ipynb",
      "provenance": [],
      "include_colab_link": true
    },
    "kernelspec": {
      "display_name": "Python 3",
      "language": "python",
      "name": "python3"
    },
    "language_info": {
      "codemirror_mode": {
        "name": "ipython",
        "version": 3
      },
      "file_extension": ".py",
      "mimetype": "text/x-python",
      "name": "python",
      "nbconvert_exporter": "python",
      "pygments_lexer": "ipython3",
      "version": "3.8.8"
    }
  },
  "nbformat": 4,
  "nbformat_minor": 0
}